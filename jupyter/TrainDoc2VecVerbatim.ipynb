{
 "cells": [
  {
   "cell_type": "code",
   "execution_count": null,
   "metadata": {},
   "outputs": [],
   "source": [
    "import logging\n",
    "logging.basicConfig(format='%(asctime)s : %(levelname)s : %(message)s', level=logging.INFO)"
   ]
  },
  {
   "cell_type": "code",
   "execution_count": null,
   "metadata": {},
   "outputs": [],
   "source": [
    "from gensim.corpora import WikiCorpus, MmCorpus\n",
    "from gensim.models.doc2vec import Doc2Vec, TaggedDocument, Doc2VecVocab\n",
    "from pprint import pprint\n",
    "import multiprocessing\n",
    "import sqlite3\n",
    "from scipy.spatial import distance"
   ]
  },
  {
   "cell_type": "code",
   "execution_count": null,
   "metadata": {},
   "outputs": [],
   "source": [
    "def preprocess(content):\n",
    "    return content.replace('\\n', ' ').replace('\\r', ' ').replace('\\t', ' ').replace(\"\\'\", \" \\' \")\n",
    "\n",
    "documents = []\n",
    "db = sqlite3.connect('../data/datasets/verbatim.sqlite')\n",
    "\n",
    "\n",
    "with db:\n",
    "    cr = db.cursor()\n",
    "    cr.execute(\"select refid, content from verbatim where length(content) >= 200\")\n",
    "    \n",
    "    for r in cr:\n",
    "        refid, content = r\n",
    "        documents.append(TaggedDocument(preprocess(content).split(), [refid]))"
   ]
  },
  {
   "cell_type": "code",
   "execution_count": null,
   "metadata": {},
   "outputs": [],
   "source": [
    "cores = multiprocessing.cpu_count()\n",
    "model = Doc2Vec(dm=0, dbow_words=1, vector_size=50, window=8, min_count=5, epochs=50, workers=cores)"
   ]
  },
  {
   "cell_type": "code",
   "execution_count": null,
   "metadata": {},
   "outputs": [],
   "source": [
    "model.build_vocab(documents)\n",
    "print(str(model))"
   ]
  },
  {
   "cell_type": "code",
   "execution_count": null,
   "metadata": {},
   "outputs": [],
   "source": [
    "%time model.train(documents, total_examples=model.corpus_count, epochs=model.epochs)\n",
    "model.save(\"models/flair/doc2vec.model\")"
   ]
  },
  {
   "cell_type": "code",
   "execution_count": null,
   "metadata": {},
   "outputs": [],
   "source": [
    "t = \"talend data\"\n",
    "v = model.infer_vector(t.split(), epochs=10)\n",
    "res = model.docvecs.most_similar([v], topn=10)\n",
    "verbs = []\n",
    "with db:\n",
    "    for ref, score in res:\n",
    "        cr = db.cursor()\n",
    "        cr.execute(\"select content from verbatim where refid = '{}'\".format(ref))\n",
    "        verbs.append(preprocess(cr.fetchone()[0]))\n",
    "\n",
    "verbs"
   ]
  },
  {
   "cell_type": "code",
   "execution_count": null,
   "metadata": {},
   "outputs": [],
   "source": [
    "t = \"talend data\"\n",
    "v = model.infer_vector(t.split(), epochs=10)\n",
    "print(v)"
   ]
  }
 ],
 "metadata": {
  "kernelspec": {
   "display_name": "Python 3",
   "language": "python",
   "name": "python3"
  },
  "language_info": {
   "codemirror_mode": {
    "name": "ipython",
    "version": 3
   },
   "file_extension": ".py",
   "mimetype": "text/x-python",
   "name": "python",
   "nbconvert_exporter": "python",
   "pygments_lexer": "ipython3",
   "version": "3.6.9"
  }
 },
 "nbformat": 4,
 "nbformat_minor": 2
}
